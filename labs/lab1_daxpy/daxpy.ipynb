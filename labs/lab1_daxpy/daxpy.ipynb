{
 "cells": [
  {
   "attachments": {},
   "cell_type": "markdown",
   "metadata": {},
   "source": [
    "Accelerating portable HPC Applications with ISO Fortran\n",
    "===\n",
    "\n",
    "# Lab 1: DAXPY\n",
    "\n",
    "In this tutorial we will familiarize ourselves with the Fortran DO CONCURRENT feature by implementing Double-precision AX Plus Y (DAXPY): $A \\cdot X + Y$, one of the main functions in the standard Basic Linear Algebra Subroutines (BLAS) library.\n",
    "\n",
    "The operation is a combination of scalar multiplication and vector adition. It takes two vectors of 64-bit floats, `x` and `y` and a scalar value `a`.\n",
    "It multiplies each element `x(i)` by `a` and adds the result to `y(i)`.\n",
    "\n",
    "A working implementation is provided in [daxpy.f90].\n",
    "Please take 2-3 minutes to skim through it.\n",
    "\n",
    "## Validating solutions\n",
    "\n",
    "For all the exercises, we assume that initially the values are `x(i) = 1` and `y(i) = i`.\n",
    "The `check` function then verifies the effect of applying `daxpy` to these two vectors.\n",
    "\n",
    "We will run this check always once\n",
    "\n",
    "## Sequential implementation\n",
    "\n",
    "The \"core\" of the sequential implementation provided in [daxpy.f90] is split into two parts:\n",
    "\n",
    "\n",
    "```c++\n",
    "! Intialize vectors `x` and `y`: raw loop sequential version\n",
    "    do i = 1, n\n",
    "    x2(i) = 1\n",
    "    y2(i)  = i\n",
    "    enddo\n",
    "! daxpy\n",
    "  subroutine daxpy_do(x,y,n,a)\n",
    "   real(kind=8),dimension(:) :: x, y\n",
    "   real(kind=8) :: a\n",
    "   integer :: n, i\n",
    "   do i = 1, n\n",
    "    y(i) = a*x(i)+y(i)\n",
    "  enddo\n",
    " end subroutine\n",
    "```\n",
    "\n",
    "We initialize the vectors to the `x(i) = 1` and `y(i) = i` expressions covered above for testing purposes.\n",
    "\n",
    "The `daxpy` subroutine implements a loop over all vector elements, reading from both `x` and `y` and writing the solution to `y`.\n",
    "\n",
    "[daxpy.f90]: ./daxpy.f90\n",
    "\n",
    "## Getting started\n",
    "\n",
    "Let's start by checking the version of some of the compilers installed in the image:\n"
   ]
  },
  {
   "cell_type": "code",
   "execution_count": null,
   "metadata": {},
   "outputs": [],
   "source": [
    "!nvfortran --version"
   ]
  },
  {
   "attachments": {},
   "cell_type": "markdown",
   "metadata": {},
   "source": [
    "---\n",
    "\n",
    "Now let's compile and run the example, [daxpy.f90](./daxpy.f90):"
   ]
  },
  {
   "cell_type": "code",
   "execution_count": null,
   "metadata": {},
   "outputs": [],
   "source": [
    "!nvfortran -stdpar -Minfo -o daxpy daxpy.f90\n",
    "!./daxpy 1000000"
   ]
  },
  {
   "attachments": {},
   "cell_type": "markdown",
   "metadata": {},
   "source": [
    "You will notice that a CPU-sequential version is run along the 'to-be-parallelized' version."
   ]
  },
  {
   "attachments": {},
   "cell_type": "markdown",
   "metadata": {},
   "source": [
    "## Exercise 1: Parallelize the DAXPY operation\n",
    "\n",
    "The goal of this first exercise is to parallelize the raw DAXPY loop using a DO CONCURRENT construct.\n",
    "\n",
    "The `TODO`s indicate the parts of the template that must be completed.\n",
    "\n",
    "A solution is provided in [daxpy1.f90](./solutions/daxpy1.f90). \n",
    "\n",
    "Compare the performance of the GPU parallelized version to the CPU version.\n",
    "\n"
   ]
  },
  {
   "attachments": {},
   "cell_type": "markdown",
   "metadata": {},
   "source": [
    "# Exercise 2: Optimizing performance with memory placement\n",
    "\n",
    "In Exercise 1 we focused on parallelizing the DAXPY loop, however the overall code runs slower than the serial CPU version.\n",
    "\n",
    "Profile your GPU version with Nsight-systems.\n",
    "\n",
    "(Hint: Look at CPU<->GPU data movements, including page faults) \n",
    "\n",
    "Implement a strategy to minimize data movements.\n",
    "\n",
    "A solution is provided in [daxpy2.f90](./solutions/daxpy2.f90). "
   ]
  }
 ],
 "metadata": {
  "kernelspec": {
   "display_name": "Python 3 (ipykernel)",
   "language": "python",
   "name": "python3"
  },
  "language_info": {
   "codemirror_mode": {
    "name": "ipython",
    "version": 3
   },
   "file_extension": ".py",
   "mimetype": "text/x-python",
   "name": "python",
   "nbconvert_exporter": "python",
   "pygments_lexer": "ipython3",
   "version": "3.10.6"
  }
 },
 "nbformat": 4,
 "nbformat_minor": 4
}
