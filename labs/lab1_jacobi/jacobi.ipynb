{
 "cells": [
  {
   "attachments": {},
   "cell_type": "markdown",
   "metadata": {},
   "source": [
    "# Lab 1: JACOBI\n",
    "\n",
    "In this tutorial we will continue parallelizing Fortran code with DO CONCURRENT with the objective to express more parallelism, allowing the compiler to easily collapse the loops for greater optimization opportunities.\n",
    "\n",
    "We will use a slightly larger example, using the [Jacobi method](https://en.wikipedia.org/wiki/Jacobi_method) to solve the [two-dimensional heat equation](https://en.wikipedia.org/wiki/Heat_equation#Steady-state_heat_equation). \n",
    "A simple application of this equation is to predict the steady-state temperature distribution in a square plate that is heated on one side or corner. \n",
    "The Jacobi method consists of approximating the square plate with a two-dimensional grid of points where a two-dimensional array is used to store the temperature at each of these points. \n",
    "Each iteration updates the elements of the array from the values computed at the previous step.\n",
    "\n",
    "The first step is to analyze the code example, [jacobi.f90](./jacobi.f90) , to find the most computational kernels. \n",
    "The second step is to parallelize the code with DO CONCURENT: \n",
    "To see how the compiler parallelizes the loops you could compile this code with -stdpar -Minfo.\n",
    "\n",
    "Compare the performance achieved to the sequential version's one, and with the below.\n"
   ]
  },
  {
   "attachments": {
    "image.png": {
     "image/png": "[encoded data removed]"
    }
   },
   "cell_type": "markdown",
   "metadata": {},
   "source": [
    "# Jacobi performance\n",
    "Figure 1 shows an almost 13x improvement in performance by running your completely ISO Standard Fortran code on a GPU compared to all 40 cores of a  CPU. This means that you don’t have to “port” your code to run on the GPU. Recompile using NVFORTRAN and standard Fortran DO CONCURRENT, and you are ready to gain the acceleration benefits of an NVIDIA GPU. Because the parallelism is expressed in Fortran with no other additional languages or hints, the same code can be compiled with multiple compilers and run efficiently on both multicore CPUs and NVIDIA GPUs.\n",
    "\n",
    "![image.png](attachment:image.png)"
   ]
  }
 ],
 "metadata": {
  "kernelspec": {
   "display_name": "Python 3 (ipykernel)",
   "language": "python",
   "name": "python3"
  },
  "language_info": {
   "codemirror_mode": {
    "name": "ipython",
    "version": 3
   },
   "file_extension": ".py",
   "mimetype": "text/x-python",
   "name": "python",
   "nbconvert_exporter": "python",
   "pygments_lexer": "ipython3",
   "version": "3.10.6"
  }
 },
 "nbformat": 4,
 "nbformat_minor": 4
}
